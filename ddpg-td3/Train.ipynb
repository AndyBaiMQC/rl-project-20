{
  "nbformat": 4,
  "nbformat_minor": 0,
  "metadata": {
    "colab": {
      "name": "Train",
      "provenance": [],
      "collapsed_sections": [
        "_4_N5M6_ovn7",
        "YdIU1BXorGtX"
      ]
    },
    "kernelspec": {
      "name": "python3",
      "display_name": "Python 3"
    }
  },
  "cells": [
    {
      "cell_type": "markdown",
      "metadata": {
        "id": "Fftg6w0ZowVp",
        "colab_type": "text"
      },
      "source": [
        "# Mount Drive"
      ]
    },
    {
      "cell_type": "markdown",
      "metadata": {
        "id": "_8tuHeOGrV2O",
        "colab_type": "text"
      },
      "source": [
        "First upload the folder ddpg-td3/ to Drive"
      ]
    },
    {
      "cell_type": "code",
      "metadata": {
        "id": "bTn0OX0hlAM_",
        "colab_type": "code",
        "colab": {}
      },
      "source": [
        "from google.colab import drive\n",
        "drive.mount('/content/drive')"
      ],
      "execution_count": 0,
      "outputs": []
    },
    {
      "cell_type": "code",
      "metadata": {
        "id": "GDwzfV3LlOXK",
        "colab_type": "code",
        "colab": {}
      },
      "source": [
        "cd '/content/drive/My Drive/ddpg-td3'"
      ],
      "execution_count": 0,
      "outputs": []
    },
    {
      "cell_type": "markdown",
      "metadata": {
        "id": "_4_N5M6_ovn7",
        "colab_type": "text"
      },
      "source": [
        "## Add Dependencies"
      ]
    },
    {
      "cell_type": "code",
      "metadata": {
        "id": "8-AxnvAVyzQQ",
        "colab_type": "code",
        "outputId": "9ac94cc0-2426-46d9-ebdc-73348cb8bd25",
        "colab": {
          "base_uri": "https://localhost:8080/",
          "height": 34
        }
      },
      "source": [
        "#remove \" > /dev/null 2>&1\" to see what is going on under the hood\n",
        "!pip install gym pyvirtualdisplay > /dev/null 2>&1\n",
        "!apt-get install -y xvfb python-opengl ffmpeg > /dev/null 2>&1\n",
        "\n",
        "!apt-get update > /dev/null 2>&1\n",
        "!apt-get install cmake > /dev/null 2>&1\n",
        "!pip install --upgrade setuptools 2>&1\n",
        "!pip install ez_setup > /dev/null 2>&1\n",
        "!pip install gym[atari] > /dev/null 2>&1\n",
        "\n"
      ],
      "execution_count": 3,
      "outputs": [
        {
          "output_type": "stream",
          "text": [
            "Requirement already up-to-date: setuptools in /usr/local/lib/python3.6/dist-packages (46.1.3)\n"
          ],
          "name": "stdout"
        }
      ]
    },
    {
      "cell_type": "code",
      "metadata": {
        "id": "18Gd6mntuMBK",
        "colab_type": "code",
        "colab": {}
      },
      "source": [
        "!pip install visdom > /dev/null 2>&1\n",
        "!pip install box2d-py > /dev/null 2>&1"
      ],
      "execution_count": 0,
      "outputs": []
    },
    {
      "cell_type": "markdown",
      "metadata": {
        "id": "YdIU1BXorGtX",
        "colab_type": "text"
      },
      "source": [
        "##Modify Hyperparameters in Drive"
      ]
    },
    {
      "cell_type": "code",
      "metadata": {
        "id": "jR8OzQGklTCh",
        "colab_type": "code",
        "colab": {}
      },
      "source": [
        "!mkdir exp1\n",
        "\n",
        "!xvfb-run -a -s \"-screen 0 1400x900x24 +extension RANDR\" -- python3 car_racing.py [--option, 'DDPG', 'TD3']\n",
        "!mv log.txt a.txt\n",
        "!cp a.txt exp1/\n",
        "!rm a.txt\n",
        "!xvfb-run -a -s \"-screen 0 1400x900x24 +extension RANDR\" -- python3 car_racing.py [--option, 'DDPG', 'TD3']\n",
        "!mv log.txt b.txt\n",
        "!cp b.txt exp1/\n",
        "!rm b.txt\n",
        "!xvfb-run -a -s \"-screen 0 1400x900x24 +extension RANDR\" -- python3 car_racing.py [--option, 'DDPG', 'TD3']\n",
        "!mv log.txt c.txt\n",
        "!cp b.txt exp1/\n",
        "!rm b.txt\n",
        "!xvfb-run -a -s \"-screen 0 1400x900x24 +extension RANDR\" -- python3 car_racing.py [--option, 'DDPG', 'TD3']\n",
        "!mv log.txt d.txt\n",
        "!cp b.txt exp1/\n",
        "!rm b.txt\n",
        "!xvfb-run -a -s \"-screen 0 1400x900x24 +extension RANDR\" -- python3 car_racing.py [--option, 'DDPG', 'TD3']\n",
        "!mv log.txt e.txt\n",
        "!cp b.txt exp1/\n",
        "!rm b.txt"
      ],
      "execution_count": 0,
      "outputs": []
    }
  ]
}